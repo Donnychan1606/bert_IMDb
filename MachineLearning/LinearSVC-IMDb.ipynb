{
 "cells": [
  {
   "cell_type": "code",
   "execution_count": 1,
   "metadata": {},
   "outputs": [],
   "source": [
    "import numpy as np \n",
    "from sklearn.pipeline import Pipeline \n",
    "from sklearn.datasets import fetch_20newsgroups \n",
    "from sklearn.feature_extraction.text import TfidfVectorizer \n",
    "from sklearn.naive_bayes import MultinomialNB \n",
    "from sklearn.neighbors import KNeighborsClassifier \n",
    "from sklearn.neural_network.multilayer_perceptron import MLPClassifier \n",
    "from sklearn.svm import SVC,LinearSVC,LinearSVR \n",
    "from sklearn.linear_model.stochastic_gradient import SGDClassifier \n",
    "from sklearn.linear_model.logistic import LogisticRegression \n",
    "from sklearn.ensemble import RandomForestClassifier \n",
    "from sklearn.ensemble import GradientBoostingClassifier \n",
    "from sklearn.ensemble import AdaBoostClassifier \n",
    "from sklearn.tree import DecisionTreeClassifier\n",
    "import pandas as pd"
   ]
  },
  {
   "cell_type": "code",
   "execution_count": 2,
   "metadata": {},
   "outputs": [],
   "source": [
    "# 加载数据集\n",
    "newsgroups_train=pd.read_csv('train.csv')\n",
    "newsgroups_test=pd.read_csv('test.csv')"
   ]
  },
  {
   "cell_type": "code",
   "execution_count": 3,
   "metadata": {},
   "outputs": [
    {
     "name": "stdout",
     "output_type": "stream",
     "text": [
      "27501 10000\n"
     ]
    }
   ],
   "source": [
    "train_texts=newsgroups_train['review']\n",
    "train_labels=newsgroups_train['label']\n",
    "test_texts=newsgroups_test['review']\n",
    "test_labels=newsgroups_test['label']\n",
    "print(len(train_texts),len(test_texts))"
   ]
  },
  {
   "cell_type": "code",
   "execution_count": null,
   "metadata": {},
   "outputs": [],
   "source": [
    "text_clf=Pipeline([('tfidf',TfidfVectorizer(max_features=10000)),\n",
    "                   ('clf',LinearSVC())])\n",
    "text_clf=text_clf.fit(train_texts,train_labels)"
   ]
  },
  {
   "cell_type": "code",
   "execution_count": null,
   "metadata": {},
   "outputs": [],
   "source": [
    "predicted=text_clf.predict(test_texts)\n",
    "print(LinearSVC准确率为：,np.mean(predicted==test_labels))"
   ]
  },
  {
   "cell_type": "code",
   "execution_count": null,
   "metadata": {},
   "outputs": [],
   "source": []
  }
 ],
 "metadata": {
  "kernelspec": {
   "display_name": "Python 3",
   "language": "python",
   "name": "python3"
  },
  "language_info": {
   "codemirror_mode": {
    "name": "ipython",
    "version": 3
   },
   "file_extension": ".py",
   "mimetype": "text/x-python",
   "name": "python",
   "nbconvert_exporter": "python",
   "pygments_lexer": "ipython3",
   "version": "3.7.3"
  }
 },
 "nbformat": 4,
 "nbformat_minor": 2
}
