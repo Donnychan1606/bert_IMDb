{
  "nbformat": 4,
  "nbformat_minor": 0,
  "metadata": {
    "colab": {
      "name": "CNN_IMDb.ipynb",
      "version": "0.3.2",
      "provenance": [],
      "include_colab_link": true
    },
    "kernelspec": {
      "name": "python3",
      "display_name": "Python 3"
    },
    "accelerator": "GPU"
  },
  "cells": [
    {
      "cell_type": "markdown",
      "metadata": {
        "id": "view-in-github",
        "colab_type": "text"
      },
      "source": [
        "<a href=\"https://colab.research.google.com/github/Donnychan1606/bert_IMDb/blob/master/CNN_IMDb.ipynb\" target=\"_parent\"><img src=\"https://colab.research.google.com/assets/colab-badge.svg\" alt=\"Open In Colab\"/></a>"
      ]
    },
    {
      "cell_type": "code",
      "metadata": {
        "id": "1ZyYiB90TdLH",
        "colab_type": "code",
        "colab": {
          "base_uri": "https://localhost:8080/",
          "height": 224
        },
        "outputId": "742017e2-bb4e-4bf6-9072-ff497920bab3"
      },
      "source": [
        "!wget https://github.com/Donnychan1606/bert_IMDb/raw/master/train.csv"
      ],
      "execution_count": 1,
      "outputs": [
        {
          "output_type": "stream",
          "text": [
            "--2019-05-29 06:37:42--  https://github.com/Donnychan1606/bert_IMDb/raw/master/train.csv\n",
            "Resolving github.com (github.com)... 192.30.253.113\n",
            "Connecting to github.com (github.com)|192.30.253.113|:443... connected.\n",
            "HTTP request sent, awaiting response... 302 Found\n",
            "Location: https://raw.githubusercontent.com/Donnychan1606/bert_IMDb/master/train.csv [following]\n",
            "--2019-05-29 06:37:42--  https://raw.githubusercontent.com/Donnychan1606/bert_IMDb/master/train.csv\n",
            "Resolving raw.githubusercontent.com (raw.githubusercontent.com)... 151.101.0.133, 151.101.64.133, 151.101.128.133, ...\n",
            "Connecting to raw.githubusercontent.com (raw.githubusercontent.com)|151.101.0.133|:443... connected.\n",
            "HTTP request sent, awaiting response... 503 first byte timeout\n",
            "2019-05-29 06:38:43 ERROR 503: first byte timeout.\n",
            "\n"
          ],
          "name": "stdout"
        }
      ]
    },
    {
      "cell_type": "code",
      "metadata": {
        "id": "tWrwgikeTuVR",
        "colab_type": "code",
        "colab": {}
      },
      "source": [
        "!wget https://github.com/Donnychan1606/bert_IMDb/raw/master/CNN/cnn_text.py"
      ],
      "execution_count": 0,
      "outputs": []
    },
    {
      "cell_type": "code",
      "metadata": {
        "id": "87revkusUkuH",
        "colab_type": "code",
        "colab": {
          "base_uri": "https://localhost:8080/",
          "height": 1924
        },
        "outputId": "38c90b16-6ff4-46c2-8bb8-d387a22ac49c"
      },
      "source": [
        "!python cnn_text.py"
      ],
      "execution_count": 5,
      "outputs": [
        {
          "output_type": "stream",
          "text": [
            "iterrows\n",
            "WARNING:tensorflow:From /usr/local/lib/python3.6/dist-packages/tensorflow/python/framework/op_def_library.py:263: colocate_with (from tensorflow.python.framework.ops) is deprecated and will be removed in a future version.\n",
            "Instructions for updating:\n",
            "Colocations handled automatically by placer.\n",
            "WARNING:tensorflow:From cnn_text.py:118: calling dropout (from tensorflow.python.ops.nn_ops) with keep_prob is deprecated and will be removed in a future version.\n",
            "Instructions for updating:\n",
            "Please use `rate` instead of `keep_prob`. Rate should be set to `rate = 1 - keep_prob`.\n",
            "going to use single label loss.\n",
            "\n",
            "WARNING: The TensorFlow contrib module will not be included in TensorFlow 2.0.\n",
            "For more information, please see:\n",
            "  * https://github.com/tensorflow/community/blob/master/rfcs/20180907-contrib-sunset.md\n",
            "  * https://github.com/tensorflow/addons\n",
            "If you depend on functionality not listed there, please file an issue.\n",
            "\n",
            "WARNING:tensorflow:From /usr/local/lib/python3.6/dist-packages/tensorflow/python/ops/array_grad.py:425: to_int32 (from tensorflow.python.ops.math_ops) is deprecated and will be removed in a future version.\n",
            "Instructions for updating:\n",
            "Use tf.cast instead.\n",
            "2019-05-29 06:58:11.492249: I tensorflow/core/platform/cpu_feature_guard.cc:141] Your CPU supports instructions that this TensorFlow binary was not compiled to use: AVX2 FMA\n",
            "2019-05-29 06:58:11.634899: I tensorflow/stream_executor/cuda/cuda_gpu_executor.cc:998] successful NUMA node read from SysFS had negative value (-1), but there must be at least one NUMA node, so returning NUMA node zero\n",
            "2019-05-29 06:58:11.635434: I tensorflow/compiler/xla/service/service.cc:150] XLA service 0x2c2d1e0 executing computations on platform CUDA. Devices:\n",
            "2019-05-29 06:58:11.635473: I tensorflow/compiler/xla/service/service.cc:158]   StreamExecutor device (0): Tesla T4, Compute Capability 7.5\n",
            "2019-05-29 06:58:11.637853: I tensorflow/core/platform/profile_utils/cpu_utils.cc:94] CPU Frequency: 2200000000 Hz\n",
            "2019-05-29 06:58:11.638073: I tensorflow/compiler/xla/service/service.cc:150] XLA service 0x2c2e680 executing computations on platform Host. Devices:\n",
            "2019-05-29 06:58:11.638104: I tensorflow/compiler/xla/service/service.cc:158]   StreamExecutor device (0): <undefined>, <undefined>\n",
            "2019-05-29 06:58:11.638344: I tensorflow/core/common_runtime/gpu/gpu_device.cc:1433] Found device 0 with properties: \n",
            "name: Tesla T4 major: 7 minor: 5 memoryClockRate(GHz): 1.59\n",
            "pciBusID: 0000:00:04.0\n",
            "totalMemory: 14.73GiB freeMemory: 6.29GiB\n",
            "2019-05-29 06:58:11.638379: I tensorflow/core/common_runtime/gpu/gpu_device.cc:1512] Adding visible gpu devices: 0\n",
            "2019-05-29 06:58:11.638899: I tensorflow/core/common_runtime/gpu/gpu_device.cc:984] Device interconnect StreamExecutor with strength 1 edge matrix:\n",
            "2019-05-29 06:58:11.638923: I tensorflow/core/common_runtime/gpu/gpu_device.cc:990]      0 \n",
            "2019-05-29 06:58:11.638937: I tensorflow/core/common_runtime/gpu/gpu_device.cc:1003] 0:   N \n",
            "2019-05-29 06:58:11.639093: W tensorflow/core/common_runtime/gpu/gpu_bfc_allocator.cc:42] Overriding allow_growth setting because the TF_FORCE_GPU_ALLOW_GROWTH environment variable is set. Original config value was 0.\n",
            "2019-05-29 06:58:11.639138: I tensorflow/core/common_runtime/gpu/gpu_device.cc:1115] Created TensorFlow device (/job:localhost/replica:0/task:0/device:GPU:0 with 6115 MB memory) -> physical GPU (device: 0, name: Tesla T4, pci bus id: 0000:00:04.0, compute capability: 7.5)\n",
            "\n",
            "--------TRAIN--------:  No. 0\n",
            "2019-05-29 06:58:12.267224: I tensorflow/stream_executor/dso_loader.cc:152] successfully opened CUDA library libcublas.so.10.0 locally\n",
            "loss: 1.1171631 acc: 0.6699999809265137\n",
            "\n",
            "--------TRAIN--------:  No. 100\n",
            "loss: 1.2122371 acc: 0.6199999988079071\n",
            "\n",
            "--------TRAIN--------:  No. 200\n",
            "loss: 1.0865562 acc: 0.6699999809265137\n",
            "\n",
            "--------TRAIN--------:  No. 300\n",
            "loss: 1.0574465 acc: 0.700000011920929\n",
            "\n",
            "--------TRAIN--------:  No. 400\n",
            "loss: 1.0825177 acc: 0.6900000214576721\n",
            "\n",
            "--------TRAIN--------:  No. 500\n",
            "loss: 0.9647841 acc: 0.7600000143051148\n",
            "\n",
            "--------TRAIN--------:  No. 600\n",
            "loss: 1.2373849 acc: 0.5999999880790711\n",
            "\n",
            "--------TRAIN--------:  No. 700\n",
            "loss: 1.0164725 acc: 0.7199999928474426\n",
            "\n",
            "--------TRAIN--------:  No. 800\n",
            "loss: 0.98937535 acc: 0.7500000238418579\n",
            "\n",
            "--------TRAIN--------:  No. 900\n",
            "loss: 1.2696978 acc: 0.5899999976158142\n",
            "\n",
            "--------TRAIN--------:  No. 1000\n",
            "loss: 1.114111 acc: 0.6900000214576721\n",
            "\n",
            "--------TRAIN--------:  No. 1100\n",
            "loss: 1.040843 acc: 0.7100000023841858\n",
            "\n",
            "--------TRAIN--------:  No. 1200\n",
            "loss: 1.1552354 acc: 0.65\n",
            "\n",
            "--------TRAIN--------:  No. 1300\n",
            "loss: 1.237812 acc: 0.6199999988079071\n",
            "\n",
            "--------TRAIN--------:  No. 1400\n",
            "loss: 1.0198629 acc: 0.7199999928474426\n",
            "\n",
            "--------TRAIN--------:  No. 1500\n",
            "loss: 1.097895 acc: 0.6699999809265137\n",
            "\n",
            "--------TRAIN--------:  No. 1600\n",
            "loss: 1.0929084 acc: 0.6900000214576721\n",
            "\n",
            "--------TRAIN--------:  No. 1700\n",
            "loss: 0.99230504 acc: 0.7500000238418579\n",
            "\n",
            "--------TRAIN--------:  No. 1800\n",
            "loss: 0.9954697 acc: 0.7399999737739563\n",
            "\n",
            "--------TRAIN--------:  No. 1900\n",
            "loss: 0.97957563 acc: 0.7500000238418579\n",
            "\n",
            "--------TRAIN--------:  No. 2000\n",
            "loss: 0.9228451 acc: 0.7799999952316284\n",
            "\n",
            "--------TRAIN--------:  No. 2100\n",
            "loss: 1.0773671 acc: 0.700000011920929\n",
            "\n",
            "--------TRAIN--------:  No. 2200\n",
            "loss: 1.0056148 acc: 0.7299999833106995\n",
            "\n",
            "--------TRAIN--------:  No. 2300\n",
            "loss: 1.0485992 acc: 0.7199999928474426\n",
            "\n",
            "--------TRAIN--------:  No. 2400\n",
            "test No. 2500\n"
          ],
          "name": "stdout"
        }
      ]
    },
    {
      "cell_type": "code",
      "metadata": {
        "id": "6IEgBfWyUoIY",
        "colab_type": "code",
        "colab": {
          "base_uri": "https://localhost:8080/",
          "height": 68
        },
        "outputId": "aac4dc88-bcbf-4055-e1c0-484e730cd975"
      },
      "source": [
        "import nltk\n",
        "nltk.download('punkt')"
      ],
      "execution_count": 2,
      "outputs": [
        {
          "output_type": "stream",
          "text": [
            "[nltk_data] Downloading package punkt to /root/nltk_data...\n",
            "[nltk_data]   Unzipping tokenizers/punkt.zip.\n"
          ],
          "name": "stdout"
        },
        {
          "output_type": "execute_result",
          "data": {
            "text/plain": [
              "True"
            ]
          },
          "metadata": {
            "tags": []
          },
          "execution_count": 2
        }
      ]
    },
    {
      "cell_type": "code",
      "metadata": {
        "id": "2kLRfAeIU1I6",
        "colab_type": "code",
        "colab": {}
      },
      "source": [
        ""
      ],
      "execution_count": 0,
      "outputs": []
    }
  ]
}