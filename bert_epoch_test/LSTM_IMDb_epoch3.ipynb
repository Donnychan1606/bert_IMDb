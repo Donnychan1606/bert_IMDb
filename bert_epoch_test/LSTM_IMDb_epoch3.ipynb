{
  "nbformat": 4,
  "nbformat_minor": 0,
  "metadata": {
    "colab": {
      "name": "LSTM_IMDb.ipynb",
      "version": "0.3.2",
      "provenance": [],
      "include_colab_link": true
    },
    "kernelspec": {
      "name": "python3",
      "display_name": "Python 3"
    },
    "accelerator": "GPU"
  },
  "cells": [
    {
      "cell_type": "markdown",
      "metadata": {
        "id": "view-in-github",
        "colab_type": "text"
      },
      "source": [
        "<a href=\"https://colab.research.google.com/github/Donnychan1606/bert_IMDb/blob/master/LSTM_IMDb_epoch3.ipynb\" target=\"_parent\"><img src=\"https://colab.research.google.com/assets/colab-badge.svg\" alt=\"Open In Colab\"/></a>"
      ]
    },
    {
      "cell_type": "code",
      "metadata": {
        "id": "wmA5P357mEEn",
        "colab_type": "code",
        "colab": {
          "base_uri": "https://localhost:8080/",
          "height": 972
        },
        "outputId": "06cfd854-35c0-473d-97b4-4dae011a0458"
      },
      "source": [
        "!python lstm_emotionAnalysis.py"
      ],
      "execution_count": 2,
      "outputs": [
        {
          "output_type": "stream",
          "text": [
            "Using TensorFlow backend.\n",
            "[nltk_data] Downloading package stopwords to /root/nltk_data...\n",
            "[nltk_data]   Package stopwords is already up-to-date!\n",
            "[nltk_data] Downloading package punkt to /root/nltk_data...\n",
            "[nltk_data]   Package punkt is already up-to-date!\n",
            "max_len  2822\n",
            "nb_words  133345\n",
            "WARNING:tensorflow:From /usr/local/lib/python3.6/dist-packages/tensorflow/python/framework/op_def_library.py:263: colocate_with (from tensorflow.python.framework.ops) is deprecated and will be removed in a future version.\n",
            "Instructions for updating:\n",
            "Colocations handled automatically by placer.\n",
            "WARNING:tensorflow:From /usr/local/lib/python3.6/dist-packages/keras/backend/tensorflow_backend.py:3445: calling dropout (from tensorflow.python.ops.nn_ops) with keep_prob is deprecated and will be removed in a future version.\n",
            "Instructions for updating:\n",
            "Please use `rate` instead of `keep_prob`. Rate should be set to `rate = 1 - keep_prob`.\n",
            "WARNING:tensorflow:From /usr/local/lib/python3.6/dist-packages/tensorflow/python/ops/math_ops.py:3066: to_int32 (from tensorflow.python.ops.math_ops) is deprecated and will be removed in a future version.\n",
            "Instructions for updating:\n",
            "Use tf.cast instead.\n",
            "Train on 26000 samples, validate on 6500 samples\n",
            "Epoch 1/3\n",
            "2019-05-29 07:54:10.284039: I tensorflow/core/platform/cpu_feature_guard.cc:141] Your CPU supports instructions that this TensorFlow binary was not compiled to use: AVX2 FMA\n",
            "2019-05-29 07:54:10.429490: I tensorflow/stream_executor/cuda/cuda_gpu_executor.cc:998] successful NUMA node read from SysFS had negative value (-1), but there must be at least one NUMA node, so returning NUMA node zero\n",
            "2019-05-29 07:54:10.429998: I tensorflow/compiler/xla/service/service.cc:150] XLA service 0x32cef20 executing computations on platform CUDA. Devices:\n",
            "2019-05-29 07:54:10.430033: I tensorflow/compiler/xla/service/service.cc:158]   StreamExecutor device (0): Tesla T4, Compute Capability 7.5\n",
            "2019-05-29 07:54:10.432161: I tensorflow/core/platform/profile_utils/cpu_utils.cc:94] CPU Frequency: 2200000000 Hz\n",
            "2019-05-29 07:54:10.432357: I tensorflow/compiler/xla/service/service.cc:150] XLA service 0x32cedc0 executing computations on platform Host. Devices:\n",
            "2019-05-29 07:54:10.432392: I tensorflow/compiler/xla/service/service.cc:158]   StreamExecutor device (0): <undefined>, <undefined>\n",
            "2019-05-29 07:54:10.432659: I tensorflow/core/common_runtime/gpu/gpu_device.cc:1433] Found device 0 with properties: \n",
            "name: Tesla T4 major: 7 minor: 5 memoryClockRate(GHz): 1.59\n",
            "pciBusID: 0000:00:04.0\n",
            "totalMemory: 14.73GiB freeMemory: 6.29GiB\n",
            "2019-05-29 07:54:10.432688: I tensorflow/core/common_runtime/gpu/gpu_device.cc:1512] Adding visible gpu devices: 0\n",
            "2019-05-29 07:54:10.433278: I tensorflow/core/common_runtime/gpu/gpu_device.cc:984] Device interconnect StreamExecutor with strength 1 edge matrix:\n",
            "2019-05-29 07:54:10.433301: I tensorflow/core/common_runtime/gpu/gpu_device.cc:990]      0 \n",
            "2019-05-29 07:54:10.433312: I tensorflow/core/common_runtime/gpu/gpu_device.cc:1003] 0:   N \n",
            "2019-05-29 07:54:10.433476: W tensorflow/core/common_runtime/gpu/gpu_bfc_allocator.cc:42] Overriding allow_growth setting because the TF_FORCE_GPU_ALLOW_GROWTH environment variable is set. Original config value was 0.\n",
            "2019-05-29 07:54:10.433518: I tensorflow/core/common_runtime/gpu/gpu_device.cc:1115] Created TensorFlow device (/job:localhost/replica:0/task:0/device:GPU:0 with 6115 MB memory) -> physical GPU (device: 0, name: Tesla T4, pci bus id: 0000:00:04.0, compute capability: 7.5)\n",
            "2019-05-29 07:54:11.679487: I tensorflow/stream_executor/dso_loader.cc:152] successfully opened CUDA library libcublas.so.10.0 locally\n",
            "26000/26000 [==============================] - 71s 3ms/step - loss: 0.5273 - acc: 0.7310 - val_loss: 0.4790 - val_acc: 0.7554\n",
            "Epoch 2/3\n",
            "26000/26000 [==============================] - 67s 3ms/step - loss: 0.4506 - acc: 0.7868 - val_loss: 0.4598 - val_acc: 0.7778\n",
            "Epoch 3/3\n",
            "26000/26000 [==============================] - 70s 3ms/step - loss: 0.4197 - acc: 0.8022 - val_loss: 0.4456 - val_acc: 0.7849\n",
            "6500/6500 [==============================] - 6s 897us/step\n",
            "\n",
            "Test score: 0.446, accuracy: 0.785\n",
            "预测   真实      句子\n",
            " 0      1     > < br / > criminal justice is not an end , but a process and a never ending one at that for all society . i guess if just cause has a moral that would probably be it .\n",
            " 0      0     > if you want a good animated show , try the UNK , UNK and UNK , south park , this show is just not worth the time or energy it takes to watch this awful UNK series UNK .\n",
            " 0      0     was to follow . well , he was right . the movie that followed was complete and UNK crap . the result of which is a UNK ending that UNK even the quality first UNK minutes of the movie .\n",
            " 0      0     was being able to give it a UNK after viewing it . i UNK you to avoid it at all costs . i understand the fact that its made for kids but there is nothing likable about it at all\n",
            " 1      1     . even if the revenge story is of old , the plot UNK themselves are UNK UNK uses his UNK to kill in more and more UNK ways . a shame this one is n't available for home UNK .\n",
            " 1      1     always feels UNK , and UNK has two emotional scenes near the UNK that are both UNK effective . in conclusion , a star is born is not only entertaining and moving , but it also UNK all UNK .\n",
            " 0      0     the top of the UNK - you 'd think they would have noticed that in the UNK UNK before UNK it . i 'd love to go on but it just is n't worth the trouble in any way .\n",
            " 1      1     UNK to UNK up with some UNK and have some fun . some people need to UNK up ! ! ! and this is the film you should do it with ! < br / > < br / >\n",
            " 0      0     UNK UNK , UNK and UNK , the movie has only one memorable line ( `` '' UNK me , you stupid genius ! '' '' ) and the fact that it 's not the original to recommend it .\n",
            " 0      0     not bad , ( 2 ) it 's interesting seeing such a young UNK moore , ( 3 ) UNK UNK never looked better , and ( 4 ) UNK did look quite UNK in various UNK of UNK .\n"
          ],
          "name": "stdout"
        }
      ]
    },
    {
      "cell_type": "code",
      "metadata": {
        "id": "ZLg9v4NJgPWt",
        "colab_type": "code",
        "colab": {}
      },
      "source": [
        ""
      ],
      "execution_count": 0,
      "outputs": []
    }
  ]
}