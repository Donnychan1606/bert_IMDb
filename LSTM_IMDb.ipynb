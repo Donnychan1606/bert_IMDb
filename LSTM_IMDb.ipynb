{
  "nbformat": 4,
  "nbformat_minor": 0,
  "metadata": {
    "colab": {
      "name": "LSTM_IMDb.ipynb",
      "version": "0.3.2",
      "provenance": [],
      "include_colab_link": true
    },
    "kernelspec": {
      "name": "python3",
      "display_name": "Python 3"
    },
    "accelerator": "GPU"
  },
  "cells": [
    {
      "cell_type": "markdown",
      "metadata": {
        "id": "view-in-github",
        "colab_type": "text"
      },
      "source": [
        "<a href=\"https://colab.research.google.com/github/Donnychan1606/bert_IMDb/blob/master/LSTM_IMDb.ipynb\" target=\"_parent\"><img src=\"https://colab.research.google.com/assets/colab-badge.svg\" alt=\"Open In Colab\"/></a>"
      ]
    },
    {
      "cell_type": "code",
      "metadata": {
        "id": "wmA5P357mEEn",
        "colab_type": "code",
        "colab": {
          "base_uri": "https://localhost:8080/",
          "height": 1125
        },
        "outputId": "bf7db519-5ce5-446d-f48c-6e37cb282700"
      },
      "source": [
        "!python lstm_emotionAnalysis.py"
      ],
      "execution_count": 1,
      "outputs": [
        {
          "output_type": "stream",
          "text": [
            "Using TensorFlow backend.\n",
            "[nltk_data] Downloading package stopwords to /root/nltk_data...\n",
            "[nltk_data]   Unzipping corpora/stopwords.zip.\n",
            "[nltk_data] Downloading package punkt to /root/nltk_data...\n",
            "[nltk_data]   Package punkt is already up-to-date!\n",
            "max_len  2822\n",
            "nb_words  133345\n",
            "WARNING:tensorflow:From /usr/local/lib/python3.6/dist-packages/tensorflow/python/framework/op_def_library.py:263: colocate_with (from tensorflow.python.framework.ops) is deprecated and will be removed in a future version.\n",
            "Instructions for updating:\n",
            "Colocations handled automatically by placer.\n",
            "WARNING:tensorflow:From /usr/local/lib/python3.6/dist-packages/keras/backend/tensorflow_backend.py:3445: calling dropout (from tensorflow.python.ops.nn_ops) with keep_prob is deprecated and will be removed in a future version.\n",
            "Instructions for updating:\n",
            "Please use `rate` instead of `keep_prob`. Rate should be set to `rate = 1 - keep_prob`.\n",
            "WARNING:tensorflow:From /usr/local/lib/python3.6/dist-packages/tensorflow/python/ops/math_ops.py:3066: to_int32 (from tensorflow.python.ops.math_ops) is deprecated and will be removed in a future version.\n",
            "Instructions for updating:\n",
            "Use tf.cast instead.\n",
            "Train on 26000 samples, validate on 6500 samples\n",
            "Epoch 1/10\n",
            "2019-05-29 07:34:49.580760: I tensorflow/core/platform/cpu_feature_guard.cc:141] Your CPU supports instructions that this TensorFlow binary was not compiled to use: AVX2 FMA\n",
            "2019-05-29 07:34:49.722296: I tensorflow/stream_executor/cuda/cuda_gpu_executor.cc:998] successful NUMA node read from SysFS had negative value (-1), but there must be at least one NUMA node, so returning NUMA node zero\n",
            "2019-05-29 07:34:49.722814: I tensorflow/compiler/xla/service/service.cc:150] XLA service 0x1aa8f20 executing computations on platform CUDA. Devices:\n",
            "2019-05-29 07:34:49.722848: I tensorflow/compiler/xla/service/service.cc:158]   StreamExecutor device (0): Tesla T4, Compute Capability 7.5\n",
            "2019-05-29 07:34:49.724921: I tensorflow/core/platform/profile_utils/cpu_utils.cc:94] CPU Frequency: 2200000000 Hz\n",
            "2019-05-29 07:34:49.725134: I tensorflow/compiler/xla/service/service.cc:150] XLA service 0x1aa8dc0 executing computations on platform Host. Devices:\n",
            "2019-05-29 07:34:49.725172: I tensorflow/compiler/xla/service/service.cc:158]   StreamExecutor device (0): <undefined>, <undefined>\n",
            "2019-05-29 07:34:49.725406: I tensorflow/core/common_runtime/gpu/gpu_device.cc:1433] Found device 0 with properties: \n",
            "name: Tesla T4 major: 7 minor: 5 memoryClockRate(GHz): 1.59\n",
            "pciBusID: 0000:00:04.0\n",
            "totalMemory: 14.73GiB freeMemory: 6.29GiB\n",
            "2019-05-29 07:34:49.725434: I tensorflow/core/common_runtime/gpu/gpu_device.cc:1512] Adding visible gpu devices: 0\n",
            "2019-05-29 07:34:49.726017: I tensorflow/core/common_runtime/gpu/gpu_device.cc:984] Device interconnect StreamExecutor with strength 1 edge matrix:\n",
            "2019-05-29 07:34:49.726041: I tensorflow/core/common_runtime/gpu/gpu_device.cc:990]      0 \n",
            "2019-05-29 07:34:49.726053: I tensorflow/core/common_runtime/gpu/gpu_device.cc:1003] 0:   N \n",
            "2019-05-29 07:34:49.726218: W tensorflow/core/common_runtime/gpu/gpu_bfc_allocator.cc:42] Overriding allow_growth setting because the TF_FORCE_GPU_ALLOW_GROWTH environment variable is set. Original config value was 0.\n",
            "2019-05-29 07:34:49.726262: I tensorflow/core/common_runtime/gpu/gpu_device.cc:1115] Created TensorFlow device (/job:localhost/replica:0/task:0/device:GPU:0 with 6115 MB memory) -> physical GPU (device: 0, name: Tesla T4, pci bus id: 0000:00:04.0, compute capability: 7.5)\n",
            "2019-05-29 07:34:50.995443: I tensorflow/stream_executor/dso_loader.cc:152] successfully opened CUDA library libcublas.so.10.0 locally\n",
            "26000/26000 [==============================] - 72s 3ms/step - loss: 0.5268 - acc: 0.7333 - val_loss: 0.4579 - val_acc: 0.7795\n",
            "Epoch 2/10\n",
            "26000/26000 [==============================] - 69s 3ms/step - loss: 0.4505 - acc: 0.7835 - val_loss: 0.4560 - val_acc: 0.7769\n",
            "Epoch 3/10\n",
            "26000/26000 [==============================] - 68s 3ms/step - loss: 0.4204 - acc: 0.8015 - val_loss: 0.4560 - val_acc: 0.7785\n",
            "Epoch 4/10\n",
            "26000/26000 [==============================] - 68s 3ms/step - loss: 0.3955 - acc: 0.8151 - val_loss: 0.4474 - val_acc: 0.7852\n",
            "Epoch 5/10\n",
            "26000/26000 [==============================] - 68s 3ms/step - loss: 0.3739 - acc: 0.8286 - val_loss: 0.4758 - val_acc: 0.7851\n",
            "Epoch 6/10\n",
            "26000/26000 [==============================] - 69s 3ms/step - loss: 0.3535 - acc: 0.8388 - val_loss: 0.4604 - val_acc: 0.7872\n",
            "Epoch 7/10\n",
            "26000/26000 [==============================] - 68s 3ms/step - loss: 0.3330 - acc: 0.8514 - val_loss: 0.4794 - val_acc: 0.7800\n",
            "Epoch 8/10\n",
            "26000/26000 [==============================] - 68s 3ms/step - loss: 0.3123 - acc: 0.8630 - val_loss: 0.4710 - val_acc: 0.7805\n",
            "Epoch 9/10\n",
            "26000/26000 [==============================] - 68s 3ms/step - loss: 0.2956 - acc: 0.8727 - val_loss: 0.5059 - val_acc: 0.7798\n",
            "Epoch 10/10\n",
            "26000/26000 [==============================] - 68s 3ms/step - loss: 0.2757 - acc: 0.8812 - val_loss: 0.5468 - val_acc: 0.7725\n",
            "6500/6500 [==============================] - 7s 1ms/step\n",
            "\n",
            "Test score: 0.547, accuracy: 0.772\n",
            "预测   真实      句子\n",
            " 1      1     a movie that is n't UNK as well by adults , but if you 're a kid , or if you UNK up with this movie as a kid , then i 'm sure you will enjoy watching it .\n",
            " 0      0     the film . what a mistake there was no chemistry as there was on the stage UNK arthur and UNK what a UNK when they UNK it is too bad a producer does not put these two together even UNK\n",
            " 0      1     film UNK to that UNK of great UNK films like `` '' field of dreams '' '' and `` '' the natural . '' '' it UNK two UNK up and a big `` '' well done . '' ''\n",
            " 1      1     at imdb but i thought it ran longer than two years . if you loved the UNK UNK , night UNK and UNK UNK , you will love this series and you will not be disappointed with your UNK .\n",
            " 1      0     his ( in movies with decent UNK ) , check out `` '' UNK ghost '' '' , `` '' the UNK UNK '' '' , `` '' white zombie '' '' and of course the UNK UNK version .\n"
          ],
          "name": "stdout"
        }
      ]
    },
    {
      "cell_type": "code",
      "metadata": {
        "id": "ZLg9v4NJgPWt",
        "colab_type": "code",
        "colab": {}
      },
      "source": [
        ""
      ],
      "execution_count": 0,
      "outputs": []
    }
  ]
}